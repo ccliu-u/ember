{
 "cells": [
  {
   "cell_type": "code",
   "execution_count": null,
   "metadata": {},
   "outputs": [
    {
     "ename": "",
     "evalue": "",
     "output_type": "error",
     "traceback": [
      "\u001b[1;31m运行具有“py3.6”的单元格需要ipykernel包。\n",
      "\u001b[1;31m运行以下命令，将 \"ipykernel\" 安装到 Python 环境中。\n",
      "\u001b[1;31m命令: \"conda install -n py3.6 ipykernel --update-deps --force-reinstall\""
     ]
    }
   ],
   "source": [
    "import ember\n",
    "ember.create_vectorized_features(\"./ember2018/\")\n",
    "ember.create_metadata(\"./ember2018/\")"
   ]
  },
  {
   "cell_type": "code",
   "execution_count": null,
   "metadata": {},
   "outputs": [],
   "source": [
    "X_train, y_train, X_test, y_test = ember.read_vectorized_features(\"./ember2018/\")\n",
    "metadata_dataframe = ember.read_metadata(\"./ember2018/\")"
   ]
  },
  {
   "cell_type": "code",
   "execution_count": null,
   "metadata": {},
   "outputs": [],
   "source": [
    "lgbm_model = ember.train_model(\"/data/ember2018/\")"
   ]
  },
  {
   "cell_type": "code",
   "execution_count": null,
   "metadata": {},
   "outputs": [],
   "source": [
    "import lightgbm as lgb\n",
    "lgbm_model = lgb.Booster(model_file=\"./ember2018/ember_model_2018.txt\")\n",
    "putty_data = open(\"~/putty.exe\", \"rb\").read()\n",
    "print(ember.predict_sample(lgbm_model, putty_data))"
   ]
  }
 ],
 "metadata": {
  "kernelspec": {
   "display_name": "py3.6",
   "language": "python",
   "name": "python3"
  },
  "language_info": {
   "name": "python",
   "version": "3.6.15"
  }
 },
 "nbformat": 4,
 "nbformat_minor": 2
}
